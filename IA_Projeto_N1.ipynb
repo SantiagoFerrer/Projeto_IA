{
  "nbformat": 4,
  "nbformat_minor": 0,
  "metadata": {
    "kernelspec": {
      "display_name": "Python 3",
      "language": "python",
      "name": "python3"
    },
    "language_info": {
      "codemirror_mode": {
        "name": "ipython",
        "version": 3
      },
      "file_extension": ".py",
      "mimetype": "text/x-python",
      "name": "python",
      "nbconvert_exporter": "python",
      "pygments_lexer": "ipython3",
      "version": "3.7.4"
    },
    "colab": {
      "provenance": [],
      "include_colab_link": true
    }
  },
  "cells": [
    {
      "cell_type": "markdown",
      "metadata": {
        "id": "view-in-github",
        "colab_type": "text"
      },
      "source": [
        "<a href=\"https://colab.research.google.com/github/SantiagoFerrer/Projeto_IA/blob/main/IA_Projeto_N1.ipynb\" target=\"_parent\"><img src=\"https://colab.research.google.com/assets/colab-badge.svg\" alt=\"Open In Colab\"/></a>"
      ]
    },
    {
      "cell_type": "markdown",
      "metadata": {
        "id": "40b90843"
      },
      "source": [
        "<img src=\"http://meusite.mackenzie.br/rogerio/mackenzie_logo/UPM.2_horizontal_vermelho.jpg\"  width=300, align=\"right\">\n",
        "<br>\n",
        "<br>\n",
        "<br>\n",
        "<br>\n",
        "<br>\n",
        "\n",
        "# ***Diagnóstico de imagens médicas***\n",
        "---"
      ]
    },
    {
      "cell_type": "markdown",
      "source": [
        "O propósito deste trabalho é que você explore uma técnica, um *framework* ou problemas diferentes dos tratados em aula para que você possa conhecer e compartilhar com seus colegas recursos de IA além apresentados em sala. Desse modo os trabalhos devem, obrigatoriamente envolver uma das categorias abaixo.\n",
        "\n",
        "No caso de você ter interesse de submeter um problema de outra categoria, valide antes com o professor.\n",
        "\n",
        "*Siga esse template para entrega da **PROPOSTA DO SEU PROJETO**  compartilhando no Moodle seu notebook.* Note, neste momento, você precisa apenas entregar a Proposta, o projeto completo deverá ser entregue e apresentado na N2.\n"
      ],
      "metadata": {
        "id": "Ikv-pBzr9bNu"
      }
    },
    {
      "cell_type": "code",
      "metadata": {
        "id": "rYx9D4GZA5o9",
        "cellView": "form"
      },
      "source": [
        "#@title Identificação do Grupo\n",
        "\n",
        "#@markdown Turma \n",
        "Turma = '7N' #@param {type:\"string\"} \n",
        "\n",
        "#@markdown Integrantes do Grupo em ordem alfabética\n",
        "Aluno1 = '32091524, Julio Cesar Martiniano' #@param {type:\"string\"} \n",
        "Aluno2 = '32092245, Lucas Andrew Lopes' #@param {type:\"string\"}\n",
        "Aluno3 = '32035764, Santiago Ferrer Balc\\xE1zar' #@param {type:\"string\"}\n",
        "\n"
      ],
      "execution_count": null,
      "outputs": []
    },
    {
      "cell_type": "code",
      "source": [
        "#@title Categoria do Projeto\n",
        "Processamento_de_Linguagem_Natural= False #@param {type:\"boolean\"} \n",
        "Processamento_de_Imagem = True #@param {type:\"boolean\"}\n",
        "Processamento_de_Video = False #@param {type:\"boolean\"}\n",
        "Deteccao_Anomalia = False #@param {type:\"boolean\"}\n",
        "Outro = None #@param {type:\"string\"} \n",
        "#@markdown Para *outro* valide antes com o professor"
      ],
      "metadata": {
        "id": "WHSEcf21HH8n",
        "cellView": "form"
      },
      "execution_count": null,
      "outputs": []
    },
    {
      "cell_type": "markdown",
      "metadata": {
        "id": "A4-f8AtfKAn2"
      },
      "source": [
        "# Apresentação do Trabalho\n",
        "\n",
        "Nosso trabalho tem como objetivo é analisar imagens médicas, como raios-x, ressonâncias magnéticas e tomografias, para ajudar os médicos a identificar doenças e condições médicas."
      ]
    },
    {
      "cell_type": "markdown",
      "metadata": {
        "id": "_fBLrFU5Dawl"
      },
      "source": [
        "# Justificativa\n",
        "\n",
        "Esta implementação ajudaria aos profissionais da saúde para diagnosticar algum problema com maior facilidade e precisão."
      ]
    },
    {
      "cell_type": "code",
      "source": [
        "#@markdown Escolha as alternativas que julgar necessário:\n",
        "Tema_Atual = True #@param {type:\"boolean\"}\n",
        "Impacto_Social_Ambiental = False #@param {type:\"boolean\"}\n",
        "Caso_Real_Proprio = True #@param {type:\"boolean\"}\n",
        "Inovacao = False #@param {type:\"boolean\"}\n",
        "Novos_Paradigmas_de_IA = False #@param {type:\"boolean\"}\n",
        "Aplicacao_Pratica = True #@param {type:\"boolean\"}\n",
        "Tecnica_recente_de_IA = False #@param {type:\"boolean\"}\n",
        "Nenhum_Acima = False #@param {type:\"boolean\"}"
      ],
      "metadata": {
        "cellView": "form",
        "id": "9gW6E7UfE9tl"
      },
      "execution_count": null,
      "outputs": []
    },
    {
      "cell_type": "markdown",
      "source": [
        "# Referencial Teórico\n",
        "\n",
        "MOURA ARAUJO, Aline. DETECÇÃO E DESTAQUE DE OBJETOS UTILIZANDO YOLO. João Pessoa: Universidade Federal da Paraíba, 2022.\n",
        "\n",
        "PARRA MARQUES, Herique; CHAMMAS UZAN, Kevin; HIDEKI NISHIMURA, Lucas. DIAGNÓSTICO ODONTOLÓGICO COM IA. São Caetano do Sul: Centro Universitário do Instituto Mauá de Tecnologia, 2021.\n",
        "\n",
        "YURI OLIVO, Regis; DE PAULA FILHO, Pedro Luiz; CANDIDO JUNIOR, Arnaldo. Uma abordagem neural na identificação de objetos em imagens para auxilio na manutenção de rede elétrica. Medianeira, Paraná: Universidade Tecnológica Federal do Paraná, 2020."
      ],
      "metadata": {
        "id": "7LtXrRFr4hg3"
      }
    },
    {
      "cell_type": "code",
      "source": [
        "#@markdown Escolha as alternativas que julgar necessário:\n",
        "Livro = False #@param {type:\"boolean\"}\n",
        "Artigo = True #@param {type:\"boolean\"}\n",
        "Internet = False #@param {type:\"boolean\"}\n",
        "Modelo_ou_Tutorial_de_implementacao = False #@param {type:\"boolean\"}\n",
        "Nenhum_Acima = False #@param {type:\"boolean\"}"
      ],
      "metadata": {
        "cellView": "form",
        "id": "uBuA4cpzF87s"
      },
      "execution_count": null,
      "outputs": []
    },
    {
      "cell_type": "markdown",
      "metadata": {
        "id": "prwBHmH4pbsp"
      },
      "source": [
        "# Diferencial\n",
        "\n",
        "Levando em conta nossas referências utilizaremos informações relevantes para podermos implementar este projeto."
      ]
    },
    {
      "cell_type": "code",
      "source": [
        "#@markdown Escolha as alternativas que julgar necessário:\n",
        "Quantitativo = False #@param {type:\"boolean\"}\n",
        "Base_de_dados_propria = True #@param {type:\"boolean\"}\n",
        "Aplicacao_original_da_tecnica = False #@param {type:\"boolean\"}\n",
        "Mudanca_do_modelo_original = True #@param {type:\"boolean\"}\n",
        "Nenhum_Acima = False #@param {type:\"boolean\"}"
      ],
      "metadata": {
        "cellView": "form",
        "id": "Hj-sfpozpbsx"
      },
      "execution_count": null,
      "outputs": []
    },
    {
      "cell_type": "markdown",
      "metadata": {
        "id": "xGFJyOm1Kdtd"
      },
      "source": [
        "# Base de Dados \n",
        "\n",
        "Serão utilizadas imagens disponibilizadas em sites de saúde e Google.\n",
        "\n",
        "\n",
        "\n"
      ]
    },
    {
      "cell_type": "code",
      "source": [
        "#@markdown Escolha as alternativas que julgar necessário:\n",
        "\n",
        "#@markdown > Fonte \n",
        "Base_Propria_Original = True #@param {type:\"boolean\"}\n",
        "Base_Publica_Tratada = True #@param {type:\"boolean\"}\n",
        "Base_Kaggle_Similares = False #@param {type:\"boolean\"}\n",
        "Nenhum_Acima = False #@param {type:\"boolean\"}\n",
        "#@markdown > Volume\n",
        "Base_Dados_KB = False #@param {type:\"boolean\"}\n",
        "Base_Dados_MB = False #@param {type:\"boolean\"}\n",
        "Base_Dados_GB = True #@param {type:\"boolean\"}\n",
        "\n"
      ],
      "metadata": {
        "cellView": "form",
        "id": "PAlLGC5JGLzt"
      },
      "execution_count": null,
      "outputs": []
    },
    {
      "cell_type": "markdown",
      "metadata": {
        "id": "c8-GAboQLMaN"
      },
      "source": [
        "# Metodologia  \n",
        "\n",
        "O YOLOV4 é um algoritmo de detecção de objetos. Ele pode ser encontrado hoje em sistemas de detecção e monitoramento em tempo real, como câmeras de CFTV e veículos de direção autônoma.\n"
      ]
    },
    {
      "cell_type": "code",
      "source": [
        "#@markdown Escolha as alternativas que julgar necessário:\n",
        "\n",
        "Scikit_learn = False #@param {type:\"boolean\"}\n",
        "TensorFlow = False #@param {type:\"boolean\"}\n",
        "PyTorch = False #@param {type:\"boolean\"}\n",
        "Yolo = True #@param {type:\"boolean\"}\n",
        "Bart = False #@param {type:\"boolean\"}\n",
        "NLKT = False #@param {type:\"boolean\"}\n",
        "Outros = None #@param {type:\"string\"} \n",
        "\n"
      ],
      "metadata": {
        "cellView": "form",
        "id": "2HG1xH6mIxY_"
      },
      "execution_count": null,
      "outputs": []
    },
    {
      "cell_type": "code",
      "metadata": {
        "id": "BluFtfHuCGzm",
        "cellView": "form"
      },
      "source": [
        "#@title Avaliação\n",
        "Completo = 10 #@param {type:\"slider\", min:0, max:10, step:1}\n",
        "#@markdown Cumpre todos os itens pedidos. \n",
        "Relevancia = 9 #@param {type:\"slider\", min:0, max:10, step:1}\n",
        "#@markdown Problema relevante e justificado. \n",
        "Tecnicas = 6 #@param {type:\"slider\", min:0, max:10, step:1}\n",
        "#@markdown Técnicas propostas adequadas.\n",
        "Apresentacao = 7 #@param {type:\"slider\", min:0, max:10, step:1}\n",
        "#@markdown Apresentação clara e objetiva.\n",
        "Analise = 8 #@param {type:\"slider\", min:0, max:10, step:1}\n",
        "#@markdown Análise Geral. \n",
        "Conclusao = 7 #@param {type:\"slider\", min:0, max:10, step:1}\n",
        "#@markdown Conclusão.\n",
        "Bonus = 0 #@param {type:\"slider\", min:0, max:1, step:0.5}\n",
        "#@markdown A critério do professor por inovações na abordagem.\n",
        "\n",
        "\n",
        "\n",
        "\n",
        "\n"
      ],
      "execution_count": null,
      "outputs": []
    },
    {
      "cell_type": "code",
      "metadata": {
        "colab": {
          "base_uri": "https://localhost:8080/",
          "height": 147
        },
        "id": "2Gqw7hUZHyle",
        "cellView": "form",
        "outputId": "7bf04cb6-3a60-4c08-8944-c80f302bcd13"
      },
      "source": [
        "#@markdown ### Nota Final\n",
        "nota = Completo + Relevancia + Tecnicas + Apresentacao + Analise + Conclusao \n",
        "\n",
        "nota = nota / 6 + Bonus\n",
        "\n",
        "print(f'Nota final do trabalho {nota :.1f}')\n",
        "\n",
        "import numpy as np\n",
        "import pandas as pd\n",
        "\n",
        "alunos = pd.DataFrame()\n",
        "\n",
        "lista_tia = []\n",
        "lista_nome = []\n",
        "\n",
        "for i in range(1,6):\n",
        "  exec(\"if Aluno\" + str(i) + \" !='None':  lista = Aluno\" + str(i) + \".split(','); lista_tia.append(lista[0]); lista_nome.append(lista[1].upper())\")\n",
        "\n",
        "alunos['tia'] = lista_tia\n",
        "alunos['nome'] = lista_nome\n",
        "alunos['nota'] = np.round(nota,1)\n",
        "print()\n",
        "alunos"
      ],
      "execution_count": null,
      "outputs": [
        {
          "output_type": "stream",
          "name": "stdout",
          "text": [
            "Nota final do trabalho 7.8\n",
            "\n"
          ]
        },
        {
          "output_type": "execute_result",
          "data": {
            "text/plain": [
              "       tia              nome  nota\n",
              "0  1115665    ADRIANA FUJITA   7.8\n",
              "1  1115677   DANIEL HENRIQUE   7.8"
            ],
            "text/html": [
              "\n",
              "  <div id=\"df-53c50a13-219a-4c07-933e-81630ad74923\">\n",
              "    <div class=\"colab-df-container\">\n",
              "      <div>\n",
              "<style scoped>\n",
              "    .dataframe tbody tr th:only-of-type {\n",
              "        vertical-align: middle;\n",
              "    }\n",
              "\n",
              "    .dataframe tbody tr th {\n",
              "        vertical-align: top;\n",
              "    }\n",
              "\n",
              "    .dataframe thead th {\n",
              "        text-align: right;\n",
              "    }\n",
              "</style>\n",
              "<table border=\"1\" class=\"dataframe\">\n",
              "  <thead>\n",
              "    <tr style=\"text-align: right;\">\n",
              "      <th></th>\n",
              "      <th>tia</th>\n",
              "      <th>nome</th>\n",
              "      <th>nota</th>\n",
              "    </tr>\n",
              "  </thead>\n",
              "  <tbody>\n",
              "    <tr>\n",
              "      <th>0</th>\n",
              "      <td>1115665</td>\n",
              "      <td>ADRIANA FUJITA</td>\n",
              "      <td>7.8</td>\n",
              "    </tr>\n",
              "    <tr>\n",
              "      <th>1</th>\n",
              "      <td>1115677</td>\n",
              "      <td>DANIEL HENRIQUE</td>\n",
              "      <td>7.8</td>\n",
              "    </tr>\n",
              "  </tbody>\n",
              "</table>\n",
              "</div>\n",
              "      <button class=\"colab-df-convert\" onclick=\"convertToInteractive('df-53c50a13-219a-4c07-933e-81630ad74923')\"\n",
              "              title=\"Convert this dataframe to an interactive table.\"\n",
              "              style=\"display:none;\">\n",
              "        \n",
              "  <svg xmlns=\"http://www.w3.org/2000/svg\" height=\"24px\"viewBox=\"0 0 24 24\"\n",
              "       width=\"24px\">\n",
              "    <path d=\"M0 0h24v24H0V0z\" fill=\"none\"/>\n",
              "    <path d=\"M18.56 5.44l.94 2.06.94-2.06 2.06-.94-2.06-.94-.94-2.06-.94 2.06-2.06.94zm-11 1L8.5 8.5l.94-2.06 2.06-.94-2.06-.94L8.5 2.5l-.94 2.06-2.06.94zm10 10l.94 2.06.94-2.06 2.06-.94-2.06-.94-.94-2.06-.94 2.06-2.06.94z\"/><path d=\"M17.41 7.96l-1.37-1.37c-.4-.4-.92-.59-1.43-.59-.52 0-1.04.2-1.43.59L10.3 9.45l-7.72 7.72c-.78.78-.78 2.05 0 2.83L4 21.41c.39.39.9.59 1.41.59.51 0 1.02-.2 1.41-.59l7.78-7.78 2.81-2.81c.8-.78.8-2.07 0-2.86zM5.41 20L4 18.59l7.72-7.72 1.47 1.35L5.41 20z\"/>\n",
              "  </svg>\n",
              "      </button>\n",
              "      \n",
              "  <style>\n",
              "    .colab-df-container {\n",
              "      display:flex;\n",
              "      flex-wrap:wrap;\n",
              "      gap: 12px;\n",
              "    }\n",
              "\n",
              "    .colab-df-convert {\n",
              "      background-color: #E8F0FE;\n",
              "      border: none;\n",
              "      border-radius: 50%;\n",
              "      cursor: pointer;\n",
              "      display: none;\n",
              "      fill: #1967D2;\n",
              "      height: 32px;\n",
              "      padding: 0 0 0 0;\n",
              "      width: 32px;\n",
              "    }\n",
              "\n",
              "    .colab-df-convert:hover {\n",
              "      background-color: #E2EBFA;\n",
              "      box-shadow: 0px 1px 2px rgba(60, 64, 67, 0.3), 0px 1px 3px 1px rgba(60, 64, 67, 0.15);\n",
              "      fill: #174EA6;\n",
              "    }\n",
              "\n",
              "    [theme=dark] .colab-df-convert {\n",
              "      background-color: #3B4455;\n",
              "      fill: #D2E3FC;\n",
              "    }\n",
              "\n",
              "    [theme=dark] .colab-df-convert:hover {\n",
              "      background-color: #434B5C;\n",
              "      box-shadow: 0px 1px 3px 1px rgba(0, 0, 0, 0.15);\n",
              "      filter: drop-shadow(0px 1px 2px rgba(0, 0, 0, 0.3));\n",
              "      fill: #FFFFFF;\n",
              "    }\n",
              "  </style>\n",
              "\n",
              "      <script>\n",
              "        const buttonEl =\n",
              "          document.querySelector('#df-53c50a13-219a-4c07-933e-81630ad74923 button.colab-df-convert');\n",
              "        buttonEl.style.display =\n",
              "          google.colab.kernel.accessAllowed ? 'block' : 'none';\n",
              "\n",
              "        async function convertToInteractive(key) {\n",
              "          const element = document.querySelector('#df-53c50a13-219a-4c07-933e-81630ad74923');\n",
              "          const dataTable =\n",
              "            await google.colab.kernel.invokeFunction('convertToInteractive',\n",
              "                                                     [key], {});\n",
              "          if (!dataTable) return;\n",
              "\n",
              "          const docLinkHtml = 'Like what you see? Visit the ' +\n",
              "            '<a target=\"_blank\" href=https://colab.research.google.com/notebooks/data_table.ipynb>data table notebook</a>'\n",
              "            + ' to learn more about interactive tables.';\n",
              "          element.innerHTML = '';\n",
              "          dataTable['output_type'] = 'display_data';\n",
              "          await google.colab.output.renderOutput(dataTable, element);\n",
              "          const docLink = document.createElement('div');\n",
              "          docLink.innerHTML = docLinkHtml;\n",
              "          element.appendChild(docLink);\n",
              "        }\n",
              "      </script>\n",
              "    </div>\n",
              "  </div>\n",
              "  "
            ]
          },
          "metadata": {},
          "execution_count": 16
        }
      ]
    }
  ]
}